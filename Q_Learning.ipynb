{
  "nbformat": 4,
  "nbformat_minor": 0,
  "metadata": {
    "colab": {
      "name": "Q-Learning.ipynb",
      "version": "0.3.2",
      "provenance": [],
      "collapsed_sections": [],
      "include_colab_link": true
    },
    "kernelspec": {
      "name": "python3",
      "display_name": "Python 3"
    }
  },
  "cells": [
    {
      "cell_type": "markdown",
      "metadata": {
        "id": "view-in-github",
        "colab_type": "text"
      },
      "source": [
        "<a href=\"https://colab.research.google.com/github/rizkiar00/Q-Learning/blob/master/Q_Learning.ipynb\" target=\"_parent\"><img src=\"https://colab.research.google.com/assets/colab-badge.svg\" alt=\"Open In Colab\"/></a>"
      ]
    },
    {
      "metadata": {
        "id": "Xf1FBZkhCaUf",
        "colab_type": "code",
        "colab": {}
      },
      "cell_type": "code",
      "source": [
        "import pandas as pd\n",
        "import numpy as np\n",
        "import random\n",
        "from IPython.display import clear_output\n",
        "import matplotlib.pyplot as plt\n",
        "np.set_printoptions(threshold=100000)\n",
        "import seaborn as sns; sns.set()"
      ],
      "execution_count": 0,
      "outputs": []
    },
    {
      "metadata": {
        "id": "V3Ar_hH5DCQG",
        "colab_type": "code",
        "outputId": "fa570d95-93c0-4fb3-84f9-94430b5f9166",
        "colab": {
          "base_uri": "https://localhost:8080/",
          "height": 118
        }
      },
      "cell_type": "code",
      "source": [
        "from google.colab import files\n",
        "!git clone https://github.com/rizkiar00/Q-Learning"
      ],
      "execution_count": 0,
      "outputs": [
        {
          "output_type": "stream",
          "text": [
            "Cloning into 'Q-Learning'...\n",
            "remote: Enumerating objects: 12, done.\u001b[K\n",
            "remote: Counting objects:   8% (1/12)   \u001b[K\rremote: Counting objects:  16% (2/12)   \u001b[K\rremote: Counting objects:  25% (3/12)   \u001b[K\rremote: Counting objects:  33% (4/12)   \u001b[K\rremote: Counting objects:  41% (5/12)   \u001b[K\rremote: Counting objects:  50% (6/12)   \u001b[K\rremote: Counting objects:  58% (7/12)   \u001b[K\rremote: Counting objects:  66% (8/12)   \u001b[K\rremote: Counting objects:  75% (9/12)   \u001b[K\rremote: Counting objects:  83% (10/12)   \u001b[K\rremote: Counting objects:  91% (11/12)   \u001b[K\rremote: Counting objects: 100% (12/12)   \u001b[K\rremote: Counting objects: 100% (12/12), done.\u001b[K\n",
            "remote: Compressing objects:  10% (1/10)   \u001b[K\rremote: Compressing objects:  20% (2/10)   \u001b[K\rremote: Compressing objects:  30% (3/10)   \u001b[K\rremote: Compressing objects:  40% (4/10)   \u001b[K\rremote: Compressing objects:  50% (5/10)   \u001b[K\rremote: Compressing objects:  60% (6/10)   \u001b[K\rremote: Compressing objects:  70% (7/10)   \u001b[K\rremote: Compressing objects:  80% (8/10)   \u001b[K\rremote: Compressing objects:  90% (9/10)   \u001b[K\rremote: Compressing objects: 100% (10/10)   \u001b[K\rremote: Compressing objects: 100% (10/10), done.\u001b[K\n",
            "remote: Total 12 (delta 2), reused 0 (delta 0), pack-reused 0\u001b[K\n",
            "Unpacking objects:   8% (1/12)   \rUnpacking objects:  16% (2/12)   \rUnpacking objects:  25% (3/12)   \rUnpacking objects:  33% (4/12)   \rUnpacking objects:  41% (5/12)   \rUnpacking objects:  50% (6/12)   \rUnpacking objects:  58% (7/12)   \rUnpacking objects:  66% (8/12)   \rUnpacking objects:  75% (9/12)   \rUnpacking objects:  83% (10/12)   \rUnpacking objects:  91% (11/12)   \rUnpacking objects: 100% (12/12)   \rUnpacking objects: 100% (12/12), done.\n"
          ],
          "name": "stdout"
        }
      ]
    },
    {
      "metadata": {
        "id": "HHwFR1wAEFlN",
        "colab_type": "code",
        "outputId": "122cecb7-00f0-4ef7-a670-2c09d316a95a",
        "colab": {
          "base_uri": "https://localhost:8080/",
          "height": 400
        }
      },
      "cell_type": "code",
      "source": [
        "my_data = np.genfromtxt('Q-Learning/DataTugas3ML2019.txt', delimiter = '\\t')\n",
        "\n",
        "# Draw a heatmap with the numeric values in each cell\n",
        "f, ax = plt.subplots(figsize=(9, 6))\n",
        "sns.heatmap(my_data, annot=True, linewidths=.5, ax=ax)"
      ],
      "execution_count": 0,
      "outputs": [
        {
          "output_type": "execute_result",
          "data": {
            "text/plain": [
              "<matplotlib.axes._subplots.AxesSubplot at 0x7f44fe038b38>"
            ]
          },
          "metadata": {
            "tags": []
          },
          "execution_count": 3
        },
        {
          "output_type": "display_data",
          "data": {
            "image/png": "[encoded data removed]",
            "text/plain": [
              "<Figure size 648x432 with 2 Axes>"
            ]
          },
          "metadata": {
            "tags": []
          }
        }
      ]
    },
    {
      "metadata": {
        "id": "cpL9Rc0Vdcf3",
        "colab_type": "code",
        "cellView": "code",
        "outputId": "df2e3998-1cb0-4f7a-ce0d-64564a52348a",
        "colab": {
          "base_uri": "https://localhost:8080/",
          "height": 134
        }
      },
      "cell_type": "code",
      "source": [
        "#@title Default title text\n",
        "def build_R(rw):\n",
        "    xlen = len(rw)\n",
        "    ylen = len(rw[0])\n",
        "\n",
        "    d = pd.DataFrame(columns = ['up', 'right', 'down', 'left', 'this'])\n",
        "    idx = 0 \n",
        "    \n",
        "    for i in range(ylen):\n",
        "        for j in range(xlen):\n",
        "            move = [float('-inf'),float('-inf'),float('-inf'),float('-inf'), rw[i][j]]\n",
        "            if i>0: #up\n",
        "                move[0] = rw[i-1][j]\n",
        "            if i<ylen-1: #down\n",
        "                move[2] = rw[i+1][j]\n",
        "            if j>0: #left\n",
        "                move[3] = rw[i][j-1]\n",
        "            if j<xlen-1: #right\n",
        "                move[1] = rw[i][j+1]\n",
        "            d.loc[idx] = move\n",
        "            idx+=1\n",
        "    return d\n",
        "\n",
        "R = build_R(my_data)\n",
        "R = np.array(R)\n",
        "print(R)"
      ],
      "execution_count": 0,
      "outputs": [
        {
          "output_type": "stream",
          "text": [
            "[[-inf  -2.  -1. -inf  -1.]\n",
            " [-inf  -3.  -3.  -1.  -2.]\n",
            " [-inf  -2.  -1.  -2.  -3.]\n",
            " ...\n",
            " [ -3.  -1. -inf  -2.  -1.]\n",
            " [ -4.  -3. -inf  -1.  -1.]\n",
            " [ -3. -inf -inf  -1.  -3.]]\n"
          ],
          "name": "stdout"
        }
      ]
    },
    {
      "metadata": {
        "id": "Ub7BK-lb5Vq5",
        "colab_type": "code",
        "outputId": "16732641-dcf3-49fd-99f9-504d632d1675",
        "colab": {
          "base_uri": "https://localhost:8080/",
          "height": 134
        }
      },
      "cell_type": "code",
      "source": [
        "def build_trans(rw):\n",
        "    xlen = len(rw)\n",
        "    ylen = len(rw[0])\n",
        "    \n",
        "    d = {'up':[] ,'right':[], 'down':[], 'left':[]}\n",
        "    d = pd.DataFrame(columns = ['up', 'right', 'down', 'left', 'none'])\n",
        "    idx = 0 \n",
        "    \n",
        "    for i in range(ylen):\n",
        "        for j in range(xlen):\n",
        "            trans = [-1,-1,-1,-1, idx]\n",
        "            if i>0: #up\n",
        "                trans[0] = idx-xlen\n",
        "            if i<ylen-1: #down\n",
        "                trans[2] = idx+xlen\n",
        "            if j>0: #left\n",
        "                trans[3] = idx-1\n",
        "            if j<xlen-1: #right\n",
        "                trans[1] = idx+1\n",
        "            d.loc[idx] = trans\n",
        "            idx+=1\n",
        "    return d\n",
        "trans = build_trans(my_data)\n",
        "trans = np.array(trans)\n",
        "trans"
      ],
      "execution_count": 0,
      "outputs": [
        {
          "output_type": "execute_result",
          "data": {
            "text/plain": [
              "array([[-1, 1, 15, -1, 0],\n",
              "       [-1, 2, 16, 0, 1],\n",
              "       [-1, 3, 17, 1, 2],\n",
              "       ...,\n",
              "       [207, 223, -1, 221, 222],\n",
              "       [208, 224, -1, 222, 223],\n",
              "       [209, -1, -1, 223, 224]], dtype=object)"
            ]
          },
          "metadata": {
            "tags": []
          },
          "execution_count": 5
        }
      ]
    },
    {
      "metadata": {
        "id": "OpXrGmQj5iL3",
        "colab_type": "code",
        "outputId": "d3180efa-bbed-44c5-8921-51f36f6c3d3a",
        "colab": {
          "base_uri": "https://localhost:8080/",
          "height": 1714
        }
      },
      "cell_type": "code",
      "source": [
        "def build_va(trans):\n",
        "    va = []\n",
        "    for i in range(len(trans)):\n",
        "        current_va = []\n",
        "        if (trans[i][0] != -1): #up\n",
        "            current_va.append(0)\n",
        "        if (trans[i][1] != -1): #right\n",
        "            current_va.append(1)\n",
        "        if (trans[i][2] != -1): #down\n",
        "            current_va.append(2)\n",
        "        if (trans[i][3] != -1): #left\n",
        "            current_va.append(3)\n",
        "        current_va.append(4)\n",
        "        va.append(current_va)\n",
        "    return va\n",
        "va = build_va(trans)\n",
        "va = np.array(va)\n",
        "va"
      ],
      "execution_count": 0,
      "outputs": [
        {
          "output_type": "execute_result",
          "data": {
            "text/plain": [
              "array([list([1, 2, 4]), list([1, 2, 3, 4]), list([1, 2, 3, 4]),\n",
              "       list([1, 2, 3, 4]), list([1, 2, 3, 4]), list([1, 2, 3, 4]),\n",
              "       list([1, 2, 3, 4]), list([1, 2, 3, 4]), list([1, 2, 3, 4]),\n",
              "       list([1, 2, 3, 4]), list([1, 2, 3, 4]), list([1, 2, 3, 4]),\n",
              "       list([1, 2, 3, 4]), list([1, 2, 3, 4]), list([2, 3, 4]),\n",
              "       list([0, 1, 2, 4]), list([0, 1, 2, 3, 4]), list([0, 1, 2, 3, 4]),\n",
              "       list([0, 1, 2, 3, 4]), list([0, 1, 2, 3, 4]),\n",
              "       list([0, 1, 2, 3, 4]), list([0, 1, 2, 3, 4]),\n",
              "       list([0, 1, 2, 3, 4]), list([0, 1, 2, 3, 4]),\n",
              "       list([0, 1, 2, 3, 4]), list([0, 1, 2, 3, 4]),\n",
              "       list([0, 1, 2, 3, 4]), list([0, 1, 2, 3, 4]),\n",
              "       list([0, 1, 2, 3, 4]), list([0, 2, 3, 4]), list([0, 1, 2, 4]),\n",
              "       list([0, 1, 2, 3, 4]), list([0, 1, 2, 3, 4]),\n",
              "       list([0, 1, 2, 3, 4]), list([0, 1, 2, 3, 4]),\n",
              "       list([0, 1, 2, 3, 4]), list([0, 1, 2, 3, 4]),\n",
              "       list([0, 1, 2, 3, 4]), list([0, 1, 2, 3, 4]),\n",
              "       list([0, 1, 2, 3, 4]), list([0, 1, 2, 3, 4]),\n",
              "       list([0, 1, 2, 3, 4]), list([0, 1, 2, 3, 4]),\n",
              "       list([0, 1, 2, 3, 4]), list([0, 2, 3, 4]), list([0, 1, 2, 4]),\n",
              "       list([0, 1, 2, 3, 4]), list([0, 1, 2, 3, 4]),\n",
              "       list([0, 1, 2, 3, 4]), list([0, 1, 2, 3, 4]),\n",
              "       list([0, 1, 2, 3, 4]), list([0, 1, 2, 3, 4]),\n",
              "       list([0, 1, 2, 3, 4]), list([0, 1, 2, 3, 4]),\n",
              "       list([0, 1, 2, 3, 4]), list([0, 1, 2, 3, 4]),\n",
              "       list([0, 1, 2, 3, 4]), list([0, 1, 2, 3, 4]),\n",
              "       list([0, 1, 2, 3, 4]), list([0, 2, 3, 4]), list([0, 1, 2, 4]),\n",
              "       list([0, 1, 2, 3, 4]), list([0, 1, 2, 3, 4]),\n",
              "       list([0, 1, 2, 3, 4]), list([0, 1, 2, 3, 4]),\n",
              "       list([0, 1, 2, 3, 4]), list([0, 1, 2, 3, 4]),\n",
              "       list([0, 1, 2, 3, 4]), list([0, 1, 2, 3, 4]),\n",
              "       list([0, 1, 2, 3, 4]), list([0, 1, 2, 3, 4]),\n",
              "       list([0, 1, 2, 3, 4]), list([0, 1, 2, 3, 4]),\n",
              "       list([0, 1, 2, 3, 4]), list([0, 2, 3, 4]), list([0, 1, 2, 4]),\n",
              "       list([0, 1, 2, 3, 4]), list([0, 1, 2, 3, 4]),\n",
              "       list([0, 1, 2, 3, 4]), list([0, 1, 2, 3, 4]),\n",
              "       list([0, 1, 2, 3, 4]), list([0, 1, 2, 3, 4]),\n",
              "       list([0, 1, 2, 3, 4]), list([0, 1, 2, 3, 4]),\n",
              "       list([0, 1, 2, 3, 4]), list([0, 1, 2, 3, 4]),\n",
              "       list([0, 1, 2, 3, 4]), list([0, 1, 2, 3, 4]),\n",
              "       list([0, 1, 2, 3, 4]), list([0, 2, 3, 4]), list([0, 1, 2, 4]),\n",
              "       list([0, 1, 2, 3, 4]), list([0, 1, 2, 3, 4]),\n",
              "       list([0, 1, 2, 3, 4]), list([0, 1, 2, 3, 4]),\n",
              "       list([0, 1, 2, 3, 4]), list([0, 1, 2, 3, 4]),\n",
              "       list([0, 1, 2, 3, 4]), list([0, 1, 2, 3, 4]),\n",
              "       list([0, 1, 2, 3, 4]), list([0, 1, 2, 3, 4]),\n",
              "       list([0, 1, 2, 3, 4]), list([0, 1, 2, 3, 4]),\n",
              "       list([0, 1, 2, 3, 4]), list([0, 2, 3, 4]), list([0, 1, 2, 4]),\n",
              "       list([0, 1, 2, 3, 4]), list([0, 1, 2, 3, 4]),\n",
              "       list([0, 1, 2, 3, 4]), list([0, 1, 2, 3, 4]),\n",
              "       list([0, 1, 2, 3, 4]), list([0, 1, 2, 3, 4]),\n",
              "       list([0, 1, 2, 3, 4]), list([0, 1, 2, 3, 4]),\n",
              "       list([0, 1, 2, 3, 4]), list([0, 1, 2, 3, 4]),\n",
              "       list([0, 1, 2, 3, 4]), list([0, 1, 2, 3, 4]),\n",
              "       list([0, 1, 2, 3, 4]), list([0, 2, 3, 4]), list([0, 1, 2, 4]),\n",
              "       list([0, 1, 2, 3, 4]), list([0, 1, 2, 3, 4]),\n",
              "       list([0, 1, 2, 3, 4]), list([0, 1, 2, 3, 4]),\n",
              "       list([0, 1, 2, 3, 4]), list([0, 1, 2, 3, 4]),\n",
              "       list([0, 1, 2, 3, 4]), list([0, 1, 2, 3, 4]),\n",
              "       list([0, 1, 2, 3, 4]), list([0, 1, 2, 3, 4]),\n",
              "       list([0, 1, 2, 3, 4]), list([0, 1, 2, 3, 4]),\n",
              "       list([0, 1, 2, 3, 4]), list([0, 2, 3, 4]), list([0, 1, 2, 4]),\n",
              "       list([0, 1, 2, 3, 4]), list([0, 1, 2, 3, 4]),\n",
              "       list([0, 1, 2, 3, 4]), list([0, 1, 2, 3, 4]),\n",
              "       list([0, 1, 2, 3, 4]), list([0, 1, 2, 3, 4]),\n",
              "       list([0, 1, 2, 3, 4]), list([0, 1, 2, 3, 4]),\n",
              "       list([0, 1, 2, 3, 4]), list([0, 1, 2, 3, 4]),\n",
              "       list([0, 1, 2, 3, 4]), list([0, 1, 2, 3, 4]),\n",
              "       list([0, 1, 2, 3, 4]), list([0, 2, 3, 4]), list([0, 1, 2, 4]),\n",
              "       list([0, 1, 2, 3, 4]), list([0, 1, 2, 3, 4]),\n",
              "       list([0, 1, 2, 3, 4]), list([0, 1, 2, 3, 4]),\n",
              "       list([0, 1, 2, 3, 4]), list([0, 1, 2, 3, 4]),\n",
              "       list([0, 1, 2, 3, 4]), list([0, 1, 2, 3, 4]),\n",
              "       list([0, 1, 2, 3, 4]), list([0, 1, 2, 3, 4]),\n",
              "       list([0, 1, 2, 3, 4]), list([0, 1, 2, 3, 4]),\n",
              "       list([0, 1, 2, 3, 4]), list([0, 2, 3, 4]), list([0, 1, 2, 4]),\n",
              "       list([0, 1, 2, 3, 4]), list([0, 1, 2, 3, 4]),\n",
              "       list([0, 1, 2, 3, 4]), list([0, 1, 2, 3, 4]),\n",
              "       list([0, 1, 2, 3, 4]), list([0, 1, 2, 3, 4]),\n",
              "       list([0, 1, 2, 3, 4]), list([0, 1, 2, 3, 4]),\n",
              "       list([0, 1, 2, 3, 4]), list([0, 1, 2, 3, 4]),\n",
              "       list([0, 1, 2, 3, 4]), list([0, 1, 2, 3, 4]),\n",
              "       list([0, 1, 2, 3, 4]), list([0, 2, 3, 4]), list([0, 1, 2, 4]),\n",
              "       list([0, 1, 2, 3, 4]), list([0, 1, 2, 3, 4]),\n",
              "       list([0, 1, 2, 3, 4]), list([0, 1, 2, 3, 4]),\n",
              "       list([0, 1, 2, 3, 4]), list([0, 1, 2, 3, 4]),\n",
              "       list([0, 1, 2, 3, 4]), list([0, 1, 2, 3, 4]),\n",
              "       list([0, 1, 2, 3, 4]), list([0, 1, 2, 3, 4]),\n",
              "       list([0, 1, 2, 3, 4]), list([0, 1, 2, 3, 4]),\n",
              "       list([0, 1, 2, 3, 4]), list([0, 2, 3, 4]), list([0, 1, 2, 4]),\n",
              "       list([0, 1, 2, 3, 4]), list([0, 1, 2, 3, 4]),\n",
              "       list([0, 1, 2, 3, 4]), list([0, 1, 2, 3, 4]),\n",
              "       list([0, 1, 2, 3, 4]), list([0, 1, 2, 3, 4]),\n",
              "       list([0, 1, 2, 3, 4]), list([0, 1, 2, 3, 4]),\n",
              "       list([0, 1, 2, 3, 4]), list([0, 1, 2, 3, 4]),\n",
              "       list([0, 1, 2, 3, 4]), list([0, 1, 2, 3, 4]),\n",
              "       list([0, 1, 2, 3, 4]), list([0, 2, 3, 4]), list([0, 1, 4]),\n",
              "       list([0, 1, 3, 4]), list([0, 1, 3, 4]), list([0, 1, 3, 4]),\n",
              "       list([0, 1, 3, 4]), list([0, 1, 3, 4]), list([0, 1, 3, 4]),\n",
              "       list([0, 1, 3, 4]), list([0, 1, 3, 4]), list([0, 1, 3, 4]),\n",
              "       list([0, 1, 3, 4]), list([0, 1, 3, 4]), list([0, 1, 3, 4]),\n",
              "       list([0, 1, 3, 4]), list([0, 3, 4])], dtype=object)"
            ]
          },
          "metadata": {
            "tags": []
          },
          "execution_count": 6
        }
      ]
    },
    {
      "metadata": {
        "id": "1W3Qcym45tpo",
        "colab_type": "code",
        "outputId": "dcbd5a6f-b0ac-4b9f-a109-48c5d81c0b33",
        "colab": {
          "base_uri": "https://localhost:8080/",
          "height": 185
        }
      },
      "cell_type": "code",
      "source": [
        "Q = np.full((225, 5), -100)\n",
        "alfa = 0.2 #Learning Rate\n",
        "gamma = 0.9 #Discount Factor\n",
        "episodes = 1000\n",
        "reward_list = []\n",
        "bestreward = -100\n",
        "for i in range(episodes):\n",
        "    #start = 210\n",
        "    start_state = random.randint(0,224)\n",
        "    goal_state = 14\n",
        "    current_state = start_state\n",
        "    current_reward = R[current_state][4]\n",
        "#     liststate = []\n",
        "#     listaction = []\n",
        "#     beststate = []\n",
        "#     bestaction = []\n",
        "    while current_state != goal_state:\n",
        "        action = random.choice(va[current_state])\n",
        "        next_state = trans[current_state][action]\n",
        "        future_rewards = []\n",
        "        for action_nxt in va[next_state]:\n",
        "            future_rewards.append(Q[next_state][action_nxt])\n",
        "#         liststate.append(current_state)\n",
        "#         listaction.append(action)\n",
        "        #update Q\n",
        "        #print('CS : {}\\nAct : {}'.format(current_state, action))\n",
        "        qstate = Q[current_state][action]+alfa*(R[current_state][action] + gamma*max(future_rewards)-Q[current_state][action])\n",
        "        Q[current_state][action] = qstate\n",
        "        #print(Q)\n",
        "        current_state = next_state\n",
        "        current_reward += R[current_state][4]\n",
        "        if(current_state == goal_state) and ((i+1) % 100 == 0):\n",
        "            print('Episode {}, score : {}'.format(i, current_reward))\n",
        "            reward_list.append(current_reward)\n",
        "#             if(bestreward<current_reward):\n",
        "#               beststate = liststate\n",
        "#               bestaction = listaction"
      ],
      "execution_count": 0,
      "outputs": [
        {
          "output_type": "stream",
          "text": [
            "Episode 99, score : -687.0\n",
            "Episode 199, score : -3297.0\n",
            "Episode 299, score : 334.0\n",
            "Episode 399, score : -99.0\n",
            "Episode 499, score : -10423.0\n",
            "Episode 599, score : -3958.0\n",
            "Episode 699, score : -4408.0\n",
            "Episode 799, score : -2727.0\n",
            "Episode 899, score : -3697.0\n",
            "Episode 999, score : -6127.0\n"
          ],
          "name": "stdout"
        }
      ]
    },
    {
      "metadata": {
        "id": "NJ-7tQ3OQ_Cm",
        "colab_type": "code",
        "outputId": "b8f126d1-9edf-43d5-ddf3-93c64d7ca97f",
        "colab": {
          "base_uri": "https://localhost:8080/",
          "height": 134
        }
      },
      "cell_type": "code",
      "source": [
        "Q"
      ],
      "execution_count": 0,
      "outputs": [
        {
          "output_type": "execute_result",
          "data": {
            "text/plain": [
              "array([[-100,   51,   31, -100,   40],\n",
              "       [-100,   64,   41,   40,   51],\n",
              "       [-100,   79,   54,   51,   64],\n",
              "       ...,\n",
              "       [  33,   32, -100,   15,   24],\n",
              "       [  42,   40, -100,   24,   32],\n",
              "       [  53, -100, -100,   32,   40]])"
            ]
          },
          "metadata": {
            "tags": []
          },
          "execution_count": 13
        }
      ]
    },
    {
      "metadata": {
        "id": "5DI4DJ7wPyJx",
        "colab_type": "code",
        "outputId": "d3c1bee6-2f9f-465d-b642-cee5cdd46431",
        "colab": {
          "base_uri": "https://localhost:8080/",
          "height": 504
        }
      },
      "cell_type": "code",
      "source": [
        "# for i in range(len(Q)):\n",
        "#   for j in range(5):\n",
        "#     if(Q[i][j]==0):\n",
        "#       Q[i][j]=-100\n",
        "      \n",
        "start_state = 210\n",
        "goal_state = 14\n",
        "current_state = start_state\n",
        "liststate = []\n",
        "listaction = []\n",
        "current_reward = R[current_state][4]\n",
        "while current_state != goal_state:\n",
        "  action = np.argmax(Q[current_state][0:2])\n",
        "  current_state = trans[current_state][action]\n",
        "  current_reward += R[current_state][4]\n",
        "  liststate.append(current_state)\n",
        "  listaction.append(action)\n",
        "  print('current_state: ', current_state)\n",
        "print('Reward: ', current_reward)"
      ],
      "execution_count": 0,
      "outputs": [
        {
          "output_type": "stream",
          "text": [
            "current_state:  195\n",
            "current_state:  196\n",
            "current_state:  181\n",
            "current_state:  182\n",
            "current_state:  167\n",
            "current_state:  152\n",
            "current_state:  153\n",
            "current_state:  138\n",
            "current_state:  123\n",
            "current_state:  124\n",
            "current_state:  125\n",
            "current_state:  126\n",
            "current_state:  111\n",
            "current_state:  96\n",
            "current_state:  97\n",
            "current_state:  82\n",
            "current_state:  83\n",
            "current_state:  84\n",
            "current_state:  85\n",
            "current_state:  70\n",
            "current_state:  71\n",
            "current_state:  56\n",
            "current_state:  41\n",
            "current_state:  26\n",
            "current_state:  27\n",
            "current_state:  28\n",
            "current_state:  29\n",
            "current_state:  14\n",
            "Reward:  453.0\n"
          ],
          "name": "stdout"
        }
      ]
    },
    {
      "metadata": {
        "id": "YZHzTO3GE36b",
        "colab_type": "code",
        "outputId": "30e95314-ae5f-4d6c-8dbf-da6a3d63d102",
        "colab": {
          "base_uri": "https://localhost:8080/",
          "height": 525
        }
      },
      "cell_type": "code",
      "source": [
        "point = np.zeros((15,15))\n",
        "i = 0\n",
        "for j in range(15):\n",
        "  for k in range(15):\n",
        "    point[j][k] = liststate.count(i)*1.5\n",
        "    if (i == 14):\n",
        "      point[j][k] += 2\n",
        "      print('J:{} K:{}'.format(j,k))    \n",
        "    if (i == 210):\n",
        "      point[j][k] += 4\n",
        "      print('J:{} K:{}'.format(j,k))\n",
        "    i += 1\n",
        "fig, ax = plt.subplots(figsize=(10,8))\n",
        "ax = sns.heatmap(point,linewidths=.5,cmap=\"RdBu_r\")"
      ],
      "execution_count": 0,
      "outputs": [
        {
          "output_type": "stream",
          "text": [
            "J:0 K:14\n",
            "J:14 K:0\n"
          ],
          "name": "stdout"
        },
        {
          "output_type": "display_data",
          "data": {
            "image/png": "[encoded data removed]",
            "text/plain": [
              "<Figure size 720x576 with 2 Axes>"
            ]
          },
          "metadata": {
            "tags": []
          }
        }
      ]
    }
  ]
}